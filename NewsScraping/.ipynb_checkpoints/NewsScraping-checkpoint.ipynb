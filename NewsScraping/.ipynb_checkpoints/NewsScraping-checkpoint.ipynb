{
 "cells": [
  {
   "cell_type": "markdown",
   "id": "99d28981-1ad0-42b3-be87-097527d35396",
   "metadata": {},
   "source": [
    "## Guardian News Scraper"
   ]
  },
  {
   "cell_type": "code",
   "execution_count": 178,
   "id": "4383e0de-0e50-47a9-ba1f-452017b2dc87",
   "metadata": {},
   "outputs": [],
   "source": [
    "def guardian_news_scraper(url):\n",
    "    response = requests.get(url)\n",
    "    soup = BeautifulSoup(response.text, 'lxml')\n",
    "    author = soup.find_all('a', attrs={'rel' : 'author'})[0].get_text()\n",
    "    date = soup.find_all('span', attrs={'class' : 'dcr-u0h1qy'})\n",
    "    if len(date)==0:\n",
    "        date = soup.find_all('div', attrs={'class' : 'dcr-18bzkx3'})\n",
    "    date=date[0].get_text()\n",
    "    \n",
    "    headline = soup.find_all('h1', attrs={'class' : 'dcr-y70mar'})[0].get_text()\n",
    "    standfirst = soup.find_all('div', attrs={'class' : 'dcr-1qt3dlu'})[0].get_text()\n",
    "    \n",
    "    text_elements = soup.find_all('p', attrs={'class' : 'dcr-1kas69x'})\n",
    "    extracted_text = ' '.join([element.get_text() for element in text_elements])\n",
    "    return {\n",
    "        \"headline\":headline,\n",
    "        \"standfirst\":standfirst,\n",
    "        \"author\":author,\n",
    "        \"date\":date,\n",
    "        \"text\":extracted_text\n",
    "    }"
   ]
  },
  {
   "cell_type": "markdown",
   "id": "963b9620-e845-4c30-8afc-4a15e09b9da5",
   "metadata": {},
   "source": [
    "## Guardian Opinion Scraper"
   ]
  },
  {
   "cell_type": "code",
   "execution_count": 198,
   "id": "04698a5d-c178-437c-b16e-e7d970d12c1f",
   "metadata": {},
   "outputs": [],
   "source": [
    "def guardian_opinion_scraper(url):\n",
    "    response = requests.get(url)\n",
    "    soup = BeautifulSoup(response.text, 'lxml')\n",
    "    author = soup.find_all('a', attrs={'rel' : 'author'})[0].get_text()\n",
    "    date = soup.find_all('span', attrs={'class' : 'dcr-u0h1qy'}) + soup.find_all('div', attrs={'class' : 'dcr-18bzkx3'})+ soup.find_all('p', attrs={'class' : 'content__dateline'})\n",
    "    \n",
    "    date=date[0].get_text()    \n",
    "    headline = soup.find_all('h1', attrs={'class' : 'dcr-y70mar'}) + soup.find_all('h1', attrs={'class' : 'dcr-1xaevyx'}) + soup.find_all('h1', attrs={'class' : 'content__headline'})\n",
    "    headline=headline[0].get_text()    \n",
    "    standfirst = soup.find_all('div', attrs={'class' : 'content__standfirst'}) + soup.find_all('div', attrs={'class' : 'dcr-1qt3dlu'}) + soup.find_all('div', attrs={'class' : 'dcr-xq41iu'}) \n",
    "    standfirst = standfirst[0].get_text()\n",
    "    text_elements = soup.find_all('p', attrs={'class' : 'dcr-1kas69x'}) + soup.find_all('p', attrs={'class' : 'dcr-rysp4a'}) \n",
    "    extracted_text = ' '.join([element.get_text() for element in text_elements])\n",
    "    return {\n",
    "        \"headline\":headline,\n",
    "        \"standfirst\":standfirst,\n",
    "        \"author\":author,\n",
    "        \"date\":date,\n",
    "        \"text\":extracted_text\n",
    "    }"
   ]
  },
  {
   "cell_type": "code",
   "execution_count": 175,
   "id": "88f8ba32-f186-4986-ae03-a3b43ad6b9c4",
   "metadata": {},
   "outputs": [],
   "source": [
    "def get_date_urls(url):\n",
    "    response = requests.get(url)\n",
    "    articles=[]\n",
    "    # Check if the request was successful (status code 200)\n",
    "    if response.status_code == 200:\n",
    "        # Parse the HTML content of the page\n",
    "        soup = BeautifulSoup(response.text, 'html.parser')\n",
    "    \n",
    "        # Find all the articles on the page\n",
    "        articles = soup.find_all('a',  attrs={'data-link-name' : 'article',\"class\":\"fc-item__link\"})\n",
    "    return [a.get(\"href\") for a in articles]"
   ]
  },
  {
   "cell_type": "code",
   "execution_count": 202,
   "id": "c22fdf93-40ac-49ea-a329-2b07a69ddd5e",
   "metadata": {},
   "outputs": [],
   "source": [
    "opinion_url = 'https://www.theguardian.com/commentisfree/2023/sep/28/'\n",
    "news_url = 'https://www.theguardian.com/world/2023/nov/25/'"
   ]
  },
  {
   "cell_type": "code",
   "execution_count": 203,
   "id": "f1513281-ce2c-4591-8fe6-fffbf9ca31d9",
   "metadata": {},
   "outputs": [],
   "source": [
    "ars = get_date_urls(opinion_url)"
   ]
  },
  {
   "cell_type": "code",
   "execution_count": 182,
   "id": "a9e17dc2-e42d-47c8-9e6e-3a183c493595",
   "metadata": {},
   "outputs": [
    {
     "data": {
      "text/plain": [
       "'https://www.theguardian.com/commentisfree/2023/oct/28/i-spent-two-weeks-travelling-in-europe-on-my-own-if-you-get-lost-you-delay-no-ones-breakfast-but-your-own'"
      ]
     },
     "execution_count": 182,
     "metadata": {},
     "output_type": "execute_result"
    }
   ],
   "source": [
    "ars[0]"
   ]
  },
  {
   "cell_type": "code",
   "execution_count": null,
   "id": "b27ebee2-a56e-4c32-bacc-b366a10caa11",
   "metadata": {},
   "outputs": [],
   "source": []
  }
 ],
 "metadata": {
  "kernelspec": {
   "display_name": "Python 3 (ipykernel)",
   "language": "python",
   "name": "python3"
  },
  "language_info": {
   "codemirror_mode": {
    "name": "ipython",
    "version": 3
   },
   "file_extension": ".py",
   "mimetype": "text/x-python",
   "name": "python",
   "nbconvert_exporter": "python",
   "pygments_lexer": "ipython3",
   "version": "3.9.6"
  }
 },
 "nbformat": 4,
 "nbformat_minor": 5
}
